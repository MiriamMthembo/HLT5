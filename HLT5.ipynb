{
 "cells": [
  {
   "cell_type": "code",
   "execution_count": null,
   "metadata": {},
   "outputs": [],
   "source": [
    "#There are 16 rows and 5 columns"
   ]
  },
  {
   "cell_type": "code",
   "execution_count": 10,
   "metadata": {},
   "outputs": [
    {
     "name": "stdout",
     "output_type": "stream",
     "text": [
      "  Destination  Feedback  Avg Hotel Star ratings  No. of All-inclusive Hotels  \\\n",
      "2    Scotland         8                       4                           15   \n",
      "3    Zimbabwe         5                       3                            5   \n",
      "4     Namibia         8                       4                            7   \n",
      "5      Brazil         6                       3                            6   \n",
      "6     Germany         7                       4                           10   \n",
      "7   Australia         9                       5                           16   \n",
      "8      Greece         8                       5                           14   \n",
      "\n",
      "  Most Visited Destination  \n",
      "2                  Glasgow  \n",
      "3                   Harare  \n",
      "4                 Windhoek  \n",
      "5                  Natalia  \n",
      "6                   Berlin  \n",
      "7                   Sidney  \n",
      "8                   Athens  \n"
     ]
    }
   ],
   "source": [
    "import pandas as pd\n",
    "holiday = pd.read_csv(\"dest.csv\")\n",
    "\n",
    "print(holiday.iloc[2:9])"
   ]
  },
  {
   "cell_type": "code",
   "execution_count": 11,
   "metadata": {},
   "outputs": [
    {
     "data": {
      "text/plain": [
       "11.0"
      ]
     },
     "execution_count": 11,
     "metadata": {},
     "output_type": "execute_result"
    }
   ],
   "source": [
    "holiday = pd.read_csv(\"dest.csv\")\n",
    "holiday[\"No. of All-inclusive Hotels\"].mean()\n"
   ]
  },
  {
   "cell_type": "code",
   "execution_count": 12,
   "metadata": {},
   "outputs": [
    {
     "data": {
      "text/html": [
       "<div>\n",
       "<style scoped>\n",
       "    .dataframe tbody tr th:only-of-type {\n",
       "        vertical-align: middle;\n",
       "    }\n",
       "\n",
       "    .dataframe tbody tr th {\n",
       "        vertical-align: top;\n",
       "    }\n",
       "\n",
       "    .dataframe thead th {\n",
       "        text-align: right;\n",
       "    }\n",
       "</style>\n",
       "<table border=\"1\" class=\"dataframe\">\n",
       "  <thead>\n",
       "    <tr style=\"text-align: right;\">\n",
       "      <th></th>\n",
       "      <th>Destination</th>\n",
       "      <th>Feedback</th>\n",
       "      <th>Avg Hotel Star ratings</th>\n",
       "      <th>No. of All-inclusive Hotels</th>\n",
       "      <th>Most Visited Destination</th>\n",
       "    </tr>\n",
       "  </thead>\n",
       "  <tbody>\n",
       "    <tr>\n",
       "      <th>1</th>\n",
       "      <td>Angola</td>\n",
       "      <td>5</td>\n",
       "      <td>3</td>\n",
       "      <td>5</td>\n",
       "      <td>Luanda</td>\n",
       "    </tr>\n",
       "    <tr>\n",
       "      <th>3</th>\n",
       "      <td>Zimbabwe</td>\n",
       "      <td>5</td>\n",
       "      <td>3</td>\n",
       "      <td>5</td>\n",
       "      <td>Harare</td>\n",
       "    </tr>\n",
       "    <tr>\n",
       "      <th>13</th>\n",
       "      <td>Mozambique</td>\n",
       "      <td>5</td>\n",
       "      <td>3</td>\n",
       "      <td>6</td>\n",
       "      <td>Maputo</td>\n",
       "    </tr>\n",
       "  </tbody>\n",
       "</table>\n",
       "</div>"
      ],
      "text/plain": [
       "   Destination  Feedback  Avg Hotel Star ratings  No. of All-inclusive Hotels  \\\n",
       "1       Angola         5                       3                            5   \n",
       "3     Zimbabwe         5                       3                            5   \n",
       "13  Mozambique         5                       3                            6   \n",
       "\n",
       "   Most Visited Destination  \n",
       "1                    Luanda  \n",
       "3                    Harare  \n",
       "13                   Maputo  "
      ]
     },
     "execution_count": 12,
     "metadata": {},
     "output_type": "execute_result"
    }
   ],
   "source": [
    "holiday = pd.read_csv(\"dest.csv\")\n",
    "holiday1 = holiday[\"Feedback\"] == 5\n",
    "lowscore = holiday[holiday1]\n",
    "\n",
    "lowscore.head ()"
   ]
  },
  {
   "cell_type": "code",
   "execution_count": 13,
   "metadata": {},
   "outputs": [
    {
     "data": {
      "text/html": [
       "<div>\n",
       "<style scoped>\n",
       "    .dataframe tbody tr th:only-of-type {\n",
       "        vertical-align: middle;\n",
       "    }\n",
       "\n",
       "    .dataframe tbody tr th {\n",
       "        vertical-align: top;\n",
       "    }\n",
       "\n",
       "    .dataframe thead th {\n",
       "        text-align: right;\n",
       "    }\n",
       "</style>\n",
       "<table border=\"1\" class=\"dataframe\">\n",
       "  <thead>\n",
       "    <tr style=\"text-align: right;\">\n",
       "      <th></th>\n",
       "      <th>Destination</th>\n",
       "      <th>Feedback</th>\n",
       "      <th>Avg Hotel Star ratings</th>\n",
       "      <th>No. of All-inclusive Hotels</th>\n",
       "      <th>Most Visited Destination</th>\n",
       "    </tr>\n",
       "  </thead>\n",
       "  <tbody>\n",
       "    <tr>\n",
       "      <th>7</th>\n",
       "      <td>Australia</td>\n",
       "      <td>9</td>\n",
       "      <td>5</td>\n",
       "      <td>16</td>\n",
       "      <td>Sidney</td>\n",
       "    </tr>\n",
       "  </tbody>\n",
       "</table>\n",
       "</div>"
      ],
      "text/plain": [
       "  Destination  Feedback  Avg Hotel Star ratings  No. of All-inclusive Hotels  \\\n",
       "7   Australia         9                       5                           16   \n",
       "\n",
       "  Most Visited Destination  \n",
       "7                   Sidney  "
      ]
     },
     "execution_count": 13,
     "metadata": {},
     "output_type": "execute_result"
    }
   ],
   "source": [
    "holiday = pd.read_csv(\"dest.csv\")\n",
    "holiday1 = holiday[\"Feedback\"] == 9\n",
    "highscore = holiday[holiday1]\n",
    "\n",
    "highscore.head ()"
   ]
  },
  {
   "cell_type": "code",
   "execution_count": 16,
   "metadata": {},
   "outputs": [
    {
     "data": {
      "text/plain": [
       "<bound method NDFrame.head of                  Destination  Feedback  Avg Hotel Star ratings  \\\n",
       "0   United States of America         8                       5   \n",
       "2                   Scotland         8                       4   \n",
       "6                    Germany         7                       4   \n",
       "7                  Australia         9                       5   \n",
       "8                     Greece         8                       5   \n",
       "9                    England         8                       4   \n",
       "10              South-Africa         7                       4   \n",
       "11                    France         8                       5   \n",
       "12                     India         6                       4   \n",
       "\n",
       "    No. of All-inclusive Hotels Most Visited Destination  \n",
       "0                            18               Carlifonia  \n",
       "2                            15                  Glasgow  \n",
       "6                            10                   Berlin  \n",
       "7                            16                   Sidney  \n",
       "8                            14                   Athens  \n",
       "9                            12                   London  \n",
       "10                           14                 Capetown  \n",
       "11                           17                    Paris  \n",
       "12                           11                    Delhi  >"
      ]
     },
     "execution_count": 16,
     "metadata": {},
     "output_type": "execute_result"
    }
   ],
   "source": [
    "holiday = pd.read_csv(\"dest.csv\")\n",
    "All_inclusive= holiday[\"No. of All-inclusive Hotels\"] > 9\n",
    "All = holiday[All_inclusive]\n",
    "\n",
    "All.head "
   ]
  },
  {
   "cell_type": "code",
   "execution_count": 17,
   "metadata": {},
   "outputs": [
    {
     "data": {
      "text/plain": [
       "<bound method NDFrame.head of   Destination  Feedback  Avg Hotel Star ratings  No. of All-inclusive Hotels  \\\n",
       "7   Australia         9                       5                           16   \n",
       "\n",
       "  Most Visited Destination  \n",
       "7                   Sidney  >"
      ]
     },
     "execution_count": 17,
     "metadata": {},
     "output_type": "execute_result"
    }
   ],
   "source": [
    "holiday = pd.read_csv(\"dest.csv\")\n",
    "holiday2= holiday[\"Feedback\"] > 8\n",
    "scoreabove8 = holiday[holiday2]\n",
    "\n",
    "scoreabove8.head "
   ]
  },
  {
   "cell_type": "code",
   "execution_count": 18,
   "metadata": {},
   "outputs": [
    {
     "data": {
      "text/plain": [
       "<bound method NDFrame.head of Empty DataFrame\n",
       "Columns: [Destination, Feedback, Avg Hotel Star ratings, No. of All-inclusive Hotels, Most Visited Destination]\n",
       "Index: []>"
      ]
     },
     "execution_count": 18,
     "metadata": {},
     "output_type": "execute_result"
    }
   ],
   "source": [
    "holiday = pd.read_csv(\"dest.csv\")\n",
    "holiday3= holiday[\"Feedback\"] <2\n",
    "scorebelow2 = holiday[holiday3]\n",
    "\n",
    "scorebelow2.head "
   ]
  },
  {
   "cell_type": "code",
   "execution_count": 19,
   "metadata": {},
   "outputs": [
    {
     "data": {
      "text/html": [
       "<div>\n",
       "<style scoped>\n",
       "    .dataframe tbody tr th:only-of-type {\n",
       "        vertical-align: middle;\n",
       "    }\n",
       "\n",
       "    .dataframe tbody tr th {\n",
       "        vertical-align: top;\n",
       "    }\n",
       "\n",
       "    .dataframe thead th {\n",
       "        text-align: right;\n",
       "    }\n",
       "</style>\n",
       "<table border=\"1\" class=\"dataframe\">\n",
       "  <thead>\n",
       "    <tr style=\"text-align: right;\">\n",
       "      <th></th>\n",
       "      <th>Feedback</th>\n",
       "      <th>No. of All-inclusive Hotels</th>\n",
       "    </tr>\n",
       "  </thead>\n",
       "  <tbody>\n",
       "    <tr>\n",
       "      <th>Feedback</th>\n",
       "      <td>1.000000</td>\n",
       "      <td>0.793857</td>\n",
       "    </tr>\n",
       "    <tr>\n",
       "      <th>No. of All-inclusive Hotels</th>\n",
       "      <td>0.793857</td>\n",
       "      <td>1.000000</td>\n",
       "    </tr>\n",
       "  </tbody>\n",
       "</table>\n",
       "</div>"
      ],
      "text/plain": [
       "                             Feedback  No. of All-inclusive Hotels\n",
       "Feedback                     1.000000                     0.793857\n",
       "No. of All-inclusive Hotels  0.793857                     1.000000"
      ]
     },
     "execution_count": 19,
     "metadata": {},
     "output_type": "execute_result"
    }
   ],
   "source": [
    "holiday = pd.read_csv(\"dest.csv\")\n",
    "data = holiday[[\"Feedback\", \"No. of All-inclusive Hotels\"]]\n",
    "data.corr()\n",
    "##There is a positive correlation between the Feedback scores and the Number of All-inclusive Hotels"
   ]
  },
  {
   "cell_type": "code",
   "execution_count": 20,
   "metadata": {},
   "outputs": [
    {
     "data": {
      "text/plain": [
       "<AxesSubplot:xlabel='Destination'>"
      ]
     },
     "execution_count": 20,
     "metadata": {},
     "output_type": "execute_result"
    },
    {
     "data": {
      "image/png": "[encoded data removed]",
      "text/plain": [
       "<Figure size 432x288 with 1 Axes>"
      ]
     },
     "metadata": {
      "needs_background": "light"
     },
     "output_type": "display_data"
    }
   ],
   "source": [
    "import matplotlib.pyplot as plt\n",
    "\n",
    "# Setting up the dataset\n",
    "holiday = pd.read_csv(\"dest.csv\")\n",
    "holiday.set_index(\"Destination\", inplace = True)\n",
    "holiday.plot.bar(y=\"Feedback\")"
   ]
  }
 ],
 "metadata": {
  "interpreter": {
   "hash": "a279d75de1c7fb928deda8b1d3281825c2cb9115f57e6cac24c2c042a4ba9ce4"
  },
  "kernelspec": {
   "display_name": "Python 3.10.2 64-bit",
   "language": "python",
   "name": "python3"
  },
  "language_info": {
   "codemirror_mode": {
    "name": "ipython",
    "version": 3
   },
   "file_extension": ".py",
   "mimetype": "text/x-python",
   "name": "python",
   "nbconvert_exporter": "python",
   "pygments_lexer": "ipython3",
   "version": "3.10.2"
  },
  "orig_nbformat": 4
 },
 "nbformat": 4,
 "nbformat_minor": 2
}
